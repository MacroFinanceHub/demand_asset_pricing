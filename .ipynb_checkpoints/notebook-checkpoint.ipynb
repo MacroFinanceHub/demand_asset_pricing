{
 "cells": [
  {
   "cell_type": "markdown",
   "metadata": {},
   "source": [
    "This code estimates the demand curve of two institutions for one quarter:\n",
    "1. Dimensional Fund Advisors (mgrno = 23000, DFA)\n",
    "2. Vanguard (mgrno = 90457)\n",
    "\n",
    "Code by Ralph S.J. Koijen and Motohiro Yogo. When using, please cite:\n",
    "\n",
    "\"A Demand System Approach to Asset Pricing,\" Ralph S.J. Koijen and Motohiro Yogo, Journal of Political Economy, Volume 127, Number 4, August 2019. https://www.journals.uchicago.edu/doi/abs/10.1086/701683?mobileUi=0&.\n",
    "\n",
    "The full code of the paper is available on the website of the JPE: https://www.journals.uchicago.edu/doi/suppl/10.1086/701683/.\n",
    "\n",
    "In the code below, we refer to the paper as KY19. \n",
    "\n",
    "To run the code, make sure to set the runtime type to Python 3. To do so, go to \"Runtime\" -> \"Change runtime type\" -> Select \"Python 3\" (instead of \"Python 2\").\n",
    "\n",
    "We would like to acknowledge Han Xu and the Macro Finance Research Program (MFR) of the Becker Friedman Institute (BFI) at the University of Chicago for the computational assistance toward this project.\n",
    "\n",
    "==================================================================================================================="
   ]
  },
  {
   "cell_type": "markdown",
   "metadata": {},
   "source": [
    "We first load the packages and the data."
   ]
  },
  {
   "cell_type": "code",
   "execution_count": null,
   "metadata": {
    "collapsed": true
   },
   "outputs": [],
   "source": [
    "## Load packages\n",
    "\n",
    "import numpy as np\n",
    "import pandas as pd\n",
    "print('#----------Successfully Loaded Python Packages----------#')\n",
    "\n",
    "## Load raw data\n",
    "\n",
    "import os, requests, zipfile, io\n",
    "if not os.path.exists('DataEstimation.xlsx'):\n",
    "    r = requests.get('https://github.com/ralphkoijen/demand_asset_pricing/blob/master/Data.zip?raw=true') \n",
    "    z = zipfile.ZipFile(io.BytesIO(r.content))\n",
    "    z.extractall()\n",
    "    \n",
    "print('#----------Successfully Loaded Raw Data----------#')"
   ]
  },
  {
   "cell_type": "markdown",
   "metadata": {},
   "source": [
    "Select the institution (recall, for DFA, use imgr = 23000 and for Vanguard, use imgr = 90457)"
   ]
  },
  {
   "cell_type": "code",
   "execution_count": null,
   "metadata": {
    "collapsed": true
   },
   "outputs": [],
   "source": [
    "## Select the manager\n",
    "\n",
    "imgr = 90457\n",
    "\n",
    "## Load data\n",
    "\n",
    "mdata    = np.array(pd.read_excel('DataEstimation.xlsx'))\n",
    "mdata    = mdata[mdata[:,0]==imgr]\n",
    "vrweight = mdata[:,2:3]"
   ]
  },
  {
   "cell_type": "markdown",
   "metadata": {},
   "source": [
    "The demand asset pricing approach starts with a model of investors' demand. Denote the weight of investor $i$ in stock $n$ at time $t$ by $w_{i,t}(n)$. We consider the following model of demand:\n",
    "\n",
    "$$\n",
    "w_{i,t}(n)=\\frac{\\delta_{i,t}(n)}{1+\\sum_m \\delta_{i,t}(m)},\n",
    "$$\n",
    "where\n",
    "$$\n",
    "\\delta_{i,t}(n)=\\exp\\left(\\beta_{0,i,t}me_{t}(n) +\\beta_{1,i,t}'x_t(n)\\right)\\epsilon_{i,t}(n),\n",
    "$$\n",
    "with $me_t(n)$ denotes the log market capitalization of stock $n$, $x_t(n)$ the stock's characteristics (including a constant), and $\\epsilon_{i,t}(n)$ denotes latent demand.\n",
    "\n",
    "We consider two instrumental variables (IV) estimators. We refer to KY19 for the discussion and construction of the instrument. It's included in the data already and can be downloaded from the JPE's website for all stocks from 1980.Q1-2017.Q4 using the links at the beginning of this code.\n",
    "\n",
    "We first consider a linear IV estimator. If we drop the zero positions, the model implies (with $w_{i,t}(0)$ the fraction invested in the outside asset)\n",
    "$$\n",
    "\\ln \\left(\\frac{w_{i,t}(n)}{w_{i,t}(0)} \\right) = \\beta_{0,i,t}me_{t}(n) +\\beta_{1,i,t}'x_t(n)+c_{i,t} + \\ln \\epsilon_{i,t}(n),\n",
    "$$\n",
    "and we assume that $\\mathbb{E}\\left[ \\ln \\epsilon_{i,t}(n) \\mid  \\widehat{me}_{t}(n),x_t(n) \\right] = 0$, with $\\widehat{me}_{t}(n)$ the instrument. This is a standard linear IV estimator that is implemented below. \n",
    "\n",
    "As shows in KY19, a sufficient condition for a unique equilibrium is that $\\beta_{0,i}<0$, for all investors. We impose this restriction in the estimation."
   ]
  },
  {
   "cell_type": "code",
   "execution_count": null,
   "metadata": {
    "collapsed": true
   },
   "outputs": [],
   "source": [
    "## Linear IV\n",
    "\n",
    "# Structure the data\n",
    "\n",
    "vLNrweight = np.log(vrweight)\n",
    "\n",
    "vloc       = np.argwhere(vrweight>0)[:,0]\n",
    "mdata0     = mdata[vloc]\n",
    "mchars     = mdata0[:,3:8]\n",
    "vLNme      = mdata0[:,8:9]\n",
    "vLNmeIV    = mdata0[:,9:10]\n",
    "vLNrweight = vLNrweight[vloc]\n",
    "\n",
    "dT         = len(vLNme)\n",
    "vones      = np.ones((dT,1))\n",
    "\n",
    "mX         = np.concatenate([vLNme,mchars,vones],axis=1)\n",
    "mZ         = np.concatenate([vLNmeIV,mchars,vones],axis=1)\n",
    "\n",
    "# Unconstrained estimation\n",
    "\n",
    "vb_linearIV = np.linalg.inv(mZ.T@mX)@mZ.T@vLNrweight\n",
    "\n",
    "# Constrained estimation\n",
    "\n",
    "if vb_linearIV[0] > .99:\n",
    "    \n",
    "    mX = np.concatenate([mchars,vones],axis=1)\n",
    "    vb_linearIV = np.linalg.inv(mX.T@mX)@mX.T@(vLNrweight - .99*vLNme)\n",
    "    vb_linearIV = np.concatenate([np.array([[.99]]), vb_linearIV],axis=0)"
   ]
  },
  {
   "cell_type": "markdown",
   "metadata": {},
   "source": [
    "Next, we also consider a non-linear estimator that uses the moment condition\n",
    "$$\n",
    "\\mathbb{E}\\left[\\epsilon_{i,t(n)}\\mid \\widehat{me}_{t}(n),x_t(n) \\right] = 1.\n",
    "$$\n",
    "The advantage of this estimator is that we do not need to drop the zero holdings. \n",
    "\n",
    "We form the moment conditions:\n",
    "$$\n",
    "\\mathbb{E}\\left[\\left(\\frac{w_{i,t}(n)}{w_{i,t}(0)} \\exp\\left(-\\beta_{0,i,t}me_{t}(n) -\\beta_{1,i,t}'x_t(n)\\right) - 1\\right)\\left(\\widehat{me}_{t}(n),x_t(n)\\right) \\right] = 1.\n",
    "$$\n",
    "\n",
    "To solve the moment conditions, we linearize the moment conditions and use it form an iterative algorithm as in Koijen, Richmond, and Yogo (2020), see https://papers.ssrn.com/sol3/papers.cfm?abstract_id=3378340."
   ]
  },
  {
   "cell_type": "code",
   "execution_count": null,
   "metadata": {
    "collapsed": true
   },
   "outputs": [],
   "source": [
    "## Non-linear IV\n",
    "\n",
    "# Structure the data\n",
    "\n",
    "mchars = mdata[:,3:8]\n",
    "vLNme  = mdata[:,8:9]\n",
    "vLNmeIV = mdata[:,9:10]\n",
    "\n",
    "dT,dN = mchars.shape\n",
    "dN = dN+2\n",
    "vones = np.ones((dT,1))\n",
    "\n",
    "mX = np.concatenate([vLNme,mchars,vones],axis=1)\n",
    "mZ = np.concatenate([vLNmeIV,mchars,vones],axis=1)\n",
    "\n",
    "# Unconstrained estimation\n",
    "\n",
    "vb_nonlinearIV = vb_linearIV\n",
    "dchange = 1\n",
    "\n",
    "while dchange > 1e-4:\n",
    "    \n",
    "    vlatent  = vrweight * np.exp(-mX@vb_nonlinearIV)\n",
    "    mZ_tilde = (vlatent @ np.ones((1,dN))) * mZ\n",
    "    \n",
    "    vb_nonlinearIV_new = vb_nonlinearIV + np.linalg.inv(mZ_tilde.T @ mX) @ mZ.T @ (vlatent-1)\n",
    "    \n",
    "    dchange = np.max(np.abs(vb_nonlinearIV - vb_nonlinearIV_new))\n",
    "    \n",
    "    vb_nonlinearIV = vb_nonlinearIV_new\n",
    "    \n",
    "# Constrained estimation\n",
    "\n",
    "if vb_nonlinearIV[0] > .99:\n",
    "    \n",
    "    vb_nonlinearIV = vb_linearIV[1:]\n",
    "    dchange = 1\n",
    "    mX = np.concatenate([mchars,vones],axis=1)\n",
    "    dN = dN-1\n",
    "    \n",
    "    while dchange > 1e-4:\n",
    "        \n",
    "        vlatent = vrweight * np.exp(-.99*vLNme - mX@vb_nonlinearIV)\n",
    "        mX_tilde = (vlatent @ np.ones((1,dN))) * mX\n",
    "        \n",
    "        vb_nonlinearIV_new = vb_nonlinearIV + np.linalg.inv(mX_tilde.T@mX)@mX.T@(vlatent-1)\n",
    "        \n",
    "        dchange = np.max(np.abs(vb_nonlinearIV - vb_nonlinearIV_new))\n",
    "        \n",
    "        vb_nonlinearIV = vb_nonlinearIV_new\n",
    "        \n",
    "    vb_nonlinearIV = np.concatenate([np.array([[.99]]), vb_nonlinearIV],axis=0)"
   ]
  },
  {
   "cell_type": "markdown",
   "metadata": {},
   "source": [
    "To complete the code, we display the estimates. "
   ]
  },
  {
   "cell_type": "code",
   "execution_count": null,
   "metadata": {
    "collapsed": true
   },
   "outputs": [],
   "source": [
    "## Display estimates\n",
    "\n",
    "print('#------------  Linear IV   ------------#')\n",
    "print(np.round(vb_linearIV,4))\n",
    "print('#------------ Nonlinear IV ------------#')\n",
    "print(np.round(vb_nonlinearIV,4))"
   ]
  }
 ],
 "metadata": {
  "kernelspec": {
   "display_name": "Python 3",
   "language": "python",
   "name": "python3"
  },
  "language_info": {
   "codemirror_mode": {
    "name": "ipython",
    "version": 3
   },
   "file_extension": ".py",
   "mimetype": "text/x-python",
   "name": "python",
   "nbconvert_exporter": "python",
   "pygments_lexer": "ipython3",
   "version": "3.8.3"
  }
 },
 "nbformat": 4,
 "nbformat_minor": 4
}
