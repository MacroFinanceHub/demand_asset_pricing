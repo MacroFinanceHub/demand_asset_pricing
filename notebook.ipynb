{
 "cells": [
  {
   "cell_type": "code",
   "execution_count": null,
   "metadata": {},
   "outputs": [],
   "source": [
    "## Load packages\n",
    "import numpy as np\n",
    "import pandas as pd"
   ]
  },
  {
   "cell_type": "code",
   "execution_count": null,
   "metadata": {},
   "outputs": [],
   "source": [
    "## Select the manager\n",
    "\n",
    "imgr = 90457"
   ]
  },
  {
   "cell_type": "code",
   "execution_count": null,
   "metadata": {},
   "outputs": [],
   "source": [
    "## Load data\n",
    "\n",
    "mdata    = np.array(pd.read_excel('DataEstimation.xlsx'))\n",
    "mdata    = mdata[mdata[:,0]==imgr]\n",
    "vrweight = mdata[:,2:3]"
   ]
  },
  {
   "cell_type": "code",
   "execution_count": null,
   "metadata": {},
   "outputs": [],
   "source": [
    "## Linear IV\n",
    "\n",
    "# Structure the data\n",
    "\n",
    "vLNrweight = np.log(vrweight)\n",
    "\n",
    "vloc       = np.argwhere(vrweight>0)[:,0]\n",
    "mdata0     = mdata[vloc]\n",
    "mchars     = mdata0[:,3:8]\n",
    "vLNme      = mdata0[:,8:9]\n",
    "vLNmeIV    = mdata0[:,9:10]\n",
    "vLNrweight = vLNrweight[vloc]\n",
    "\n",
    "dT         = len(vLNme)\n",
    "vones      = np.ones((dT,1))\n",
    "\n",
    "mX         = np.concatenate([vLNme,mchars,vones],axis=1)\n",
    "mZ         = np.concatenate([vLNmeIV,mchars,vones],axis=1)\n",
    "\n",
    "# Unconstrained estimation\n",
    "\n",
    "vb_linearIV = np.linalg.inv(mZ.T@mX)@mZ.T@vLNrweight\n",
    "\n",
    "# Constrained estimation\n",
    "\n",
    "if vb_linearIV[0] > .99:\n",
    "    \n",
    "    mX = np.concatenate([mchars,vones],axis=1)\n",
    "    vb_linearIV = np.linalg.inv(mX.T@mX)@mX.T@(vLNrweight - .99*vLNme)\n",
    "    vb_linearIV = np.concatenate([np.array([[.99]]), vb_linearIV],axis=0)"
   ]
  },
  {
   "cell_type": "code",
   "execution_count": null,
   "metadata": {},
   "outputs": [],
   "source": [
    "## Non-linear IV\n",
    "\n",
    "# Structure the data\n",
    "\n",
    "mchars = mdata[:,3:8]\n",
    "vLNme  = mdata[:,8:9]\n",
    "vLNmeIV = mdata[:,9:10]\n",
    "\n",
    "dT,dN = mchars.shape\n",
    "dN = dN+2\n",
    "vones = np.ones((dT,1))\n",
    "\n",
    "mX = np.concatenate([vLNme,mchars,vones],axis=1)\n",
    "mZ = np.concatenate([vLNmeIV,mchars,vones],axis=1)\n",
    "\n",
    "# Unconstrained estimation\n",
    "\n",
    "vb_nonlinearIV = vb_linearIV\n",
    "dchange = 1\n",
    "\n",
    "while dchange > 1e-4:\n",
    "    \n",
    "    vlatent  = vrweight * np.exp(-mX@vb_nonlinearIV)\n",
    "    mZ_tilde = (vlatent @ np.ones((1,dN))) * mZ\n",
    "    \n",
    "    vb_nonlinearIV_new = vb_nonlinearIV + np.linalg.inv(mZ_tilde.T @ mX) @ mZ.T @ (vlatent-1)\n",
    "    \n",
    "    dchange = np.max(np.abs(vb_nonlinearIV - vb_nonlinearIV_new))\n",
    "    \n",
    "    vb_nonlinearIV = vb_nonlinearIV_new\n",
    "    \n",
    "# Constrained estimation\n",
    "\n",
    "if vb_nonlinearIV[0] > .99:\n",
    "    \n",
    "    vb_nonlinearIV = vb_linearIV[1:]\n",
    "    dchange = 1\n",
    "    mX = np.concatenate([mchars,vones],axis=1)\n",
    "    dN = dN-1\n",
    "    \n",
    "    while dchange > 1e-4:\n",
    "        \n",
    "        vlatent = vrweight * np.exp(-.99*vLNme - mX@vb_nonlinearIV)\n",
    "        mX_tilde = (vlatent @ np.ones((1,dN))) * mX\n",
    "        \n",
    "        vb_nonlinearIV_new = vb_nonlinearIV + np.linalg.inv(mX_tilde.T@mX)@mX.T@(vlatent-1)\n",
    "        \n",
    "        dchange = np.max(np.abs(vb_nonlinearIV - vb_nonlinearIV_new))\n",
    "        \n",
    "        vb_nonlinearIV = vb_nonlinearIV_new\n",
    "        \n",
    "    vb_nonlinearIV = np.concatenate([np.array([[.99]]), vb_nonlinearIV],axis=0)"
   ]
  },
  {
   "cell_type": "code",
   "execution_count": null,
   "metadata": {},
   "outputs": [],
   "source": [
    "## Display estimates\n",
    "\n",
    "print('#------------  Linear IV   ------------#')\n",
    "print(np.round(vb_linearIV,4))\n",
    "print('#------------ Nonlinear IV ------------#')\n",
    "print(np.round(vb_nonlinearIV,4))"
   ]
  }
 ],
 "metadata": {
  "kernelspec": {
   "display_name": "Python 3",
   "language": "python",
   "name": "python3"
  },
  "language_info": {
   "codemirror_mode": {
    "name": "ipython",
    "version": 3
   },
   "file_extension": ".py",
   "mimetype": "text/x-python",
   "name": "python",
   "nbconvert_exporter": "python",
   "pygments_lexer": "ipython3",
   "version": "3.8.3"
  }
 },
 "nbformat": 4,
 "nbformat_minor": 4
}
